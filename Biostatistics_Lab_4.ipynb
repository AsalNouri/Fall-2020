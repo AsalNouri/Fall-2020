{
  "nbformat": 4,
  "nbformat_minor": 0,
  "metadata": {
    "colab": {
      "name": "Biostatistics_Lab_4.ipynb",
      "provenance": [],
      "collapsed_sections": [],
      "include_colab_link": true
    },
    "kernelspec": {
      "name": "python3",
      "display_name": "Python 3"
    },
    "accelerator": "GPU"
  },
  "cells": [
    {
      "cell_type": "markdown",
      "metadata": {
        "id": "view-in-github",
        "colab_type": "text"
      },
      "source": [
        "<a href=\"https://colab.research.google.com/github/AsalNouri/Fall-2020/blob/master/Biostatistics_Lab_4.ipynb\" target=\"_parent\"><img src=\"https://colab.research.google.com/assets/colab-badge.svg\" alt=\"Open In Colab\"/></a>"
      ]
    },
    {
      "cell_type": "markdown",
      "metadata": {
        "id": "x6JoE4rdE9ae"
      },
      "source": [
        "# Rice Seed Classification"
      ]
    },
    {
      "cell_type": "markdown",
      "metadata": {
        "id": "kNqEeYHZIj7W"
      },
      "source": [
        "How will you classify the bellow two images?\n",
        "\n",
        "![1rice](https://github.com/totti0223/deep_learning_for_biologists_with_keras/raw/master/assets/11.jpg) Proper Shaped Rice Seed\n",
        "\n",
        "![2rice](https://github.com/totti0223/deep_learning_for_biologists_with_keras/raw/master/assets/141.jpg) Broken Rice Seed\n",
        "\n"
      ]
    },
    {
      "cell_type": "code",
      "metadata": {
        "id": "vv_CFDFPE2BJ"
      },
      "source": [
        "import numpy as np \n",
        "import math, os, sys\n",
        "import itertools\n",
        "\n",
        "import matplotlib.pyplot as plt\n",
        "plt.style.use('default')\n",
        "from scipy import ndimage\n",
        "\n",
        "from skimage import measure, morphology\n",
        "from skimage.io import imsave, imread\n",
        "from skimage.color import rgb2gray\n",
        "from skimage.filters import threshold_otsu\n",
        "from skimage.transform import resize\n",
        "\n",
        "from sklearn import svm, datasets\n",
        "from sklearn.metrics import confusion_matrix\n",
        "import pandas as pd"
      ],
      "execution_count": 1,
      "outputs": []
    },
    {
      "cell_type": "code",
      "metadata": {
        "id": "pQptkk_24tvw"
      },
      "source": [
        "#creates a confusion matrix \n",
        "def plot_confusion_matrix(cm, classes,                          \n",
        "                          normalize=False,\n",
        "                          title='Confusion matrix',\n",
        "                          cmap=plt.cm.Blues):\n",
        "    \"\"\"\n",
        "    This function prints and plots the confusion matrix.\n",
        "    Normalization can be applied by setting `normalize=True`.\n",
        "    #code from https://scikit-learn.org/stable/auto_examples/model_selection/plot_confusion_matrix.html#sphx-glr-auto-examples-model-selection-plot-confusion-matrix-py\n",
        "    \"\"\"\n",
        "    if normalize:\n",
        "        cm = cm.astype('float') / cm.sum(axis=1)[:, np.newaxis]\n",
        "        print(\"Normalized confusion matrix\")\n",
        "    else:\n",
        "        print('Confusion matrix, without normalization')\n",
        "\n",
        "    #print(cm)\n",
        "\n",
        "    plt.imshow(cm, interpolation='nearest', cmap=cmap)\n",
        "    plt.title(title)\n",
        "    #plt.colorbar()\n",
        "    tick_marks = np.arange(len(classes))\n",
        "    plt.xticks(tick_marks, classes, rotation=90)\n",
        "    plt.yticks(tick_marks, classes)\n",
        "\n",
        "    fmt = '.2f' if normalize else 'd'\n",
        "    thresh = cm.max() / 2.\n",
        "    for i, j in itertools.product(range(cm.shape[0]), range(cm.shape[1])):\n",
        "        plt.text(j, i, format(cm[i, j], fmt),\n",
        "                 horizontalalignment=\"center\",\n",
        "                 color=\"white\" if cm[i, j] > thresh else \"black\")\n",
        "\n",
        "    plt.ylabel('True label')\n",
        "    plt.xlabel('Predicted label')\n",
        "    plt.tight_layout()"
      ],
      "execution_count": 2,
      "outputs": []
    },
    {
      "cell_type": "code",
      "metadata": {
        "id": "ErxWOZ1KMKZ_"
      },
      "source": [
        "\n",
        "!apt-get install subversion > /dev/null\n",
        "!svn export https://github.com/totti0223/deep_learning_for_biologists_with_keras/trunk/notebooks/data/image image > /dev/null"
      ],
      "execution_count": 3,
      "outputs": []
    },
    {
      "cell_type": "code",
      "metadata": {
        "id": "W_oxMl_MLoQw",
        "colab": {
          "base_uri": "https://localhost:8080/"
        },
        "outputId": "e19c9343-15d2-4a54-a6d4-67eb03995342"
      },
      "source": [
        "#Inspects part of the files downloaded from the address above\n",
        "!ls image\n",
        "!ls image/train\n",
        "!ls image/train/broken #prints "
      ],
      "execution_count": 4,
      "outputs": [
        {
          "output_type": "stream",
          "text": [
            "test  test.txt\ttrain  train.txt\n",
            "broken\tproper\n",
            "141.jpg  177.jpg  213.jpg  248.jpg  274.jpg  300.jpg  326.jpg  352.jpg\t378.jpg\n",
            "142.jpg  178.jpg  214.jpg  249.jpg  275.jpg  301.jpg  327.jpg  353.jpg\t379.jpg\n",
            "144.jpg  179.jpg  215.jpg  250.jpg  276.jpg  302.jpg  328.jpg  354.jpg\t380.jpg\n",
            "145.jpg  180.jpg  216.jpg  251.jpg  277.jpg  303.jpg  329.jpg  355.jpg\t381.jpg\n",
            "147.jpg  182.jpg  217.jpg  252.jpg  278.jpg  304.jpg  330.jpg  356.jpg\t382.jpg\n",
            "150.jpg  184.jpg  218.jpg  253.jpg  279.jpg  305.jpg  331.jpg  357.jpg\t383.jpg\n",
            "152.jpg  185.jpg  219.jpg  254.jpg  280.jpg  306.jpg  332.jpg  358.jpg\t384.jpg\n",
            "155.jpg  186.jpg  220.jpg  255.jpg  281.jpg  307.jpg  333.jpg  359.jpg\t385.jpg\n",
            "156.jpg  189.jpg  221.jpg  256.jpg  282.jpg  308.jpg  334.jpg  360.jpg\t386.jpg\n",
            "158.jpg  191.jpg  222.jpg  257.jpg  283.jpg  309.jpg  335.jpg  361.jpg\t387.jpg\n",
            "160.jpg  194.jpg  223.jpg  258.jpg  284.jpg  310.jpg  336.jpg  362.jpg\t388.jpg\n",
            "161.jpg  195.jpg  224.jpg  259.jpg  285.jpg  311.jpg  337.jpg  363.jpg\t389.jpg\n",
            "162.jpg  196.jpg  225.jpg  260.jpg  286.jpg  312.jpg  338.jpg  364.jpg\t390.jpg\n",
            "164.jpg  199.jpg  226.jpg  261.jpg  287.jpg  313.jpg  339.jpg  365.jpg\t391.jpg\n",
            "165.jpg  201.jpg  227.jpg  262.jpg  288.jpg  314.jpg  340.jpg  366.jpg\t392.jpg\n",
            "166.jpg  202.jpg  228.jpg  263.jpg  289.jpg  315.jpg  341.jpg  367.jpg\t393.jpg\n",
            "167.jpg  203.jpg  229.jpg  264.jpg  290.jpg  316.jpg  342.jpg  368.jpg\t394.jpg\n",
            "168.jpg  204.jpg  230.jpg  265.jpg  291.jpg  317.jpg  343.jpg  369.jpg\t395.jpg\n",
            "169.jpg  205.jpg  231.jpg  266.jpg  292.jpg  318.jpg  344.jpg  370.jpg\t396.jpg\n",
            "170.jpg  206.jpg  232.jpg  267.jpg  293.jpg  319.jpg  345.jpg  371.jpg\t397.jpg\n",
            "171.jpg  207.jpg  233.jpg  268.jpg  294.jpg  320.jpg  346.jpg  372.jpg\t398.jpg\n",
            "172.jpg  208.jpg  234.jpg  269.jpg  295.jpg  321.jpg  347.jpg  373.jpg\t399.jpg\n",
            "173.jpg  209.jpg  244.jpg  270.jpg  296.jpg  322.jpg  348.jpg  374.jpg\t400.jpg\n",
            "174.jpg  210.jpg  245.jpg  271.jpg  297.jpg  323.jpg  349.jpg  375.jpg\n",
            "175.jpg  211.jpg  246.jpg  272.jpg  298.jpg  324.jpg  350.jpg  376.jpg\n",
            "176.jpg  212.jpg  247.jpg  273.jpg  299.jpg  325.jpg  351.jpg  377.jpg\n"
          ],
          "name": "stdout"
        }
      ]
    },
    {
      "cell_type": "code",
      "metadata": {
        "id": "9AXVWZgTPGYx",
        "colab": {
          "base_uri": "https://localhost:8080/",
          "height": 229
        },
        "outputId": "99c998aa-4e45-4b0a-e16c-7ec516b12c6d"
      },
      "source": [
        "#Tries one image\n",
        "image = imread(\"image/train/proper/100.jpg\")\n",
        "plt.figure(figsize=(3,3))\n",
        "plt.imshow(image)"
      ],
      "execution_count": 5,
      "outputs": [
        {
          "output_type": "execute_result",
          "data": {
            "text/plain": [
              "<matplotlib.image.AxesImage at 0x7fc016bd6438>"
            ]
          },
          "metadata": {
            "tags": []
          },
          "execution_count": 5
        },
        {
          "output_type": "display_data",
          "data": {
            "image/png": "[encoded data removed]",
            "text/plain": [
              "<Figure size 216x216 with 1 Axes>"
            ]
          },
          "metadata": {
            "tags": [],
            "needs_background": "light"
          }
        }
      ]
    },
    {
      "cell_type": "code",
      "metadata": {
        "id": "iHNV81ptRQD1",
        "colab": {
          "base_uri": "https://localhost:8080/"
        },
        "outputId": "ec27c578-6cbb-4232-c183-649841410903"
      },
      "source": [
        "#load training dataset\n",
        "X_train = []\n",
        "y_train = []\n",
        "\n",
        "for root, dirs, files in os.walk(\"image/train\"): #load training dataset from github\n",
        "    files = [x for x in files if x.endswith(\".jpg\")] #Adds the images\n",
        "    for file in files:\n",
        "        image_path = os.path.join(root, file)\n",
        "        \n",
        "        image = imread(image_path)/255.             \n",
        "        image = resize(image,(28,28))              #Resizing the image to a smaller size to save storage\n",
        "        X_train.append(image)        \n",
        "        category = os.path.split(root)[-1]         \n",
        "        if category == \"proper\":                    #Assign zero to the images labeled \"proper\" and one to the ones labeled broken\n",
        "            y_train.append(0)\n",
        "        else:\n",
        "            y_train.append(1)\n",
        "X_train = np.array(X_train)\n",
        "y_train = np.array(y_train)\n",
        "\n",
        "\n",
        "\n",
        "X_test = []\n",
        "y_test = []\n",
        "\n",
        "for root, dirs, files in os.walk(\"image/test\"):             #Gets test dataset from the image/test folder\n",
        "    files = [x for x in files if x.endswith(\".jpg\")]\n",
        "    for file in files:\n",
        "        image_path = os.path.join(root, file)\n",
        "        \n",
        "        image = imread(image_path)/255.\n",
        "        image = resize(image,(28,28))\n",
        "        X_test.append(image)        \n",
        "        category = os.path.split(root)[-1]\n",
        "        if category == \"proper\":\n",
        "            y_test.append(0)\n",
        "        else:\n",
        "            y_test.append(1)\n",
        "X_test = np.array(X_test)\n",
        "y_test = np.array(y_test)\n",
        "\n",
        "print(\"train dataset shape is:\", X_train.shape,y_train.shape)\n",
        "print(\"test dataset shape is:\", X_test.shape,y_test.shape)"
      ],
      "execution_count": 6,
      "outputs": [
        {
          "output_type": "stream",
          "text": [
            "train dataset shape is: (377, 28, 28, 3) (377,)\n",
            "test dataset shape is: (20, 28, 28, 3) (20,)\n"
          ],
          "name": "stdout"
        }
      ]
    },
    {
      "cell_type": "code",
      "metadata": {
        "id": "4OGcB_v0x_Ja",
        "colab": {
          "base_uri": "https://localhost:8080/",
          "height": 281
        },
        "outputId": "3301f1fe-1b7f-417e-cfa8-ccffd084d538"
      },
      "source": [
        "plt.subplots_adjust(wspace=0.4, hspace=0.6)\n",
        "\n",
        "index = np.random.randint(0,X_train.shape[0],size=9) #plots random 9 images from the train dataset\n",
        "\n",
        "for i, idx  in enumerate(index):\n",
        "    plt.subplot(3,3,i+1)\n",
        "    \n",
        "    if y_train[idx] == 0:\n",
        "        label = \"proper\"\n",
        "    else:\n",
        "        label = \"broken\"\n",
        "    plt.title(label)\n",
        "    plt.imshow(X_train[idx])"
      ],
      "execution_count": 7,
      "outputs": [
        {
          "output_type": "display_data",
          "data": {
            "image/png": "[encoded data removed]",
            "text/plain": [
              "<Figure size 432x288 with 9 Axes>"
            ]
          },
          "metadata": {
            "tags": [],
            "needs_background": "light"
          }
        }
      ]
    },
    {
      "cell_type": "code",
      "metadata": {
        "id": "xW8efuFNJ2iL",
        "colab": {
          "base_uri": "https://localhost:8080/",
          "height": 262
        },
        "outputId": "e5e1080f-3c08-4dfd-c38d-5fda29159665"
      },
      "source": [
        "#Tries an image\n",
        "image = X_train[120]\n",
        "\n",
        "#the original image\n",
        "print(image.shape)\n",
        "plt.figure(figsize=(3,3))\n",
        "plt.imshow(image)\n",
        "plt.title(\"original\")"
      ],
      "execution_count": 8,
      "outputs": [
        {
          "output_type": "stream",
          "text": [
            "(28, 28, 3)\n"
          ],
          "name": "stdout"
        },
        {
          "output_type": "execute_result",
          "data": {
            "text/plain": [
              "Text(0.5, 1.0, 'original')"
            ]
          },
          "metadata": {
            "tags": []
          },
          "execution_count": 8
        },
        {
          "output_type": "display_data",
          "data": {
            "image/png": "[encoded data removed]",
            "text/plain": [
              "<Figure size 216x216 with 1 Axes>"
            ]
          },
          "metadata": {
            "tags": [],
            "needs_background": "light"
          }
        }
      ]
    },
    {
      "cell_type": "code",
      "metadata": {
        "id": "on8SXqeyqn6y",
        "colab": {
          "base_uri": "https://localhost:8080/",
          "height": 262
        },
        "outputId": "198bdfd4-f62e-4274-e442-faa7bd0ee2b0"
      },
      "source": [
        "#Converts to gray\n",
        "gray = rgb2gray(image)\n",
        "print(gray.shape)\n",
        "plt.figure(figsize=(3,3))\n",
        "plt.imshow(gray, cmap=plt.cm.gray)\n",
        "plt.title(\"gray converted\")"
      ],
      "execution_count": 9,
      "outputs": [
        {
          "output_type": "stream",
          "text": [
            "(28, 28)\n"
          ],
          "name": "stdout"
        },
        {
          "output_type": "execute_result",
          "data": {
            "text/plain": [
              "Text(0.5, 1.0, 'gray converted')"
            ]
          },
          "metadata": {
            "tags": []
          },
          "execution_count": 9
        },
        {
          "output_type": "display_data",
          "data": {
            "image/png": "[encoded data removed]",
            "text/plain": [
              "<Figure size 216x216 with 1 Axes>"
            ]
          },
          "metadata": {
            "tags": [],
            "needs_background": "light"
          }
        }
      ]
    },
    {
      "cell_type": "code",
      "metadata": {
        "id": "KHKRsea1qsEh",
        "colab": {
          "base_uri": "https://localhost:8080/",
          "height": 229
        },
        "outputId": "36d09ac8-d5c8-4102-a3da-d9f8678a8bdd"
      },
      "source": [
        "#converts to black and white\n",
        "threshold = threshold_otsu(gray)\n",
        "binary = gray > threshold\n",
        "plt.figure(figsize=(3,3))\n",
        "plt.imshow(binary, cmap=plt.cm.gray)"
      ],
      "execution_count": 10,
      "outputs": [
        {
          "output_type": "execute_result",
          "data": {
            "text/plain": [
              "<matplotlib.image.AxesImage at 0x7fc0143e2128>"
            ]
          },
          "metadata": {
            "tags": []
          },
          "execution_count": 10
        },
        {
          "output_type": "display_data",
          "data": {
            "image/png": "[encoded data removed]",
            "text/plain": [
              "<Figure size 216x216 with 1 Axes>"
            ]
          },
          "metadata": {
            "tags": [],
            "needs_background": "light"
          }
        }
      ]
    },
    {
      "cell_type": "markdown",
      "metadata": {
        "id": "qUaXvXv7m_uk"
      },
      "source": [
        "now that we have a nice binary image, we can isolate the region of rice seed which corresponds to the white region of the image above."
      ]
    },
    {
      "cell_type": "code",
      "metadata": {
        "id": "ErLnR9QmE2B6",
        "colab": {
          "base_uri": "https://localhost:8080/"
        },
        "outputId": "9cb102bb-2985-4a09-9a11-375378049eda"
      },
      "source": [
        "label_im, nb_labels = ndimage.label(binary)\n",
        "regionprops = measure.regionprops(label_im, intensity_image=gray) #using skimage library functions to find the major and minor axis and area of the rice grains\n",
        "regionprop = regionprops[0]\n",
        "\n",
        "print(\"area is\",regionprop.area)\n",
        "print(\"major axis length is\", regionprop.major_axis_length)\n",
        "print(\"minor axis length is\", regionprop.minor_axis_length)"
      ],
      "execution_count": 11,
      "outputs": [
        {
          "output_type": "stream",
          "text": [
            "area is 183\n",
            "major axis length is 17.235511208163985\n",
            "minor axis length is 14.118947913934065\n"
          ],
          "name": "stdout"
        }
      ]
    },
    {
      "cell_type": "code",
      "metadata": {
        "id": "tJeqQgHV-obI",
        "colab": {
          "base_uri": "https://localhost:8080/",
          "height": 235
        },
        "outputId": "7d2b36fa-ebb6-4511-9f9b-5bc5a5f1fa42"
      },
      "source": [
        "X_train_area = []\n",
        "X_train_ratio = []\n",
        "for image in X_train:\n",
        "    area, r = quant_area_ratio(image)\n",
        "    X_train_area.append(area)\n",
        "    X_train_ratio.append(r)\n",
        "\n",
        "X_test_area = []\n",
        "X_test_ratio = []\n",
        "for image in X_test:\n",
        "    area, r = quant_area_ratio(image)\n",
        "    X_test_area.append(area)\n",
        "    X_test_ratio.append(r)\n"
      ],
      "execution_count": 12,
      "outputs": [
        {
          "output_type": "error",
          "ename": "NameError",
          "evalue": "ignored",
          "traceback": [
            "\u001b[0;31m---------------------------------------------------------------------------\u001b[0m",
            "\u001b[0;31mNameError\u001b[0m                                 Traceback (most recent call last)",
            "\u001b[0;32m<ipython-input-12-91825a6a3898>\u001b[0m in \u001b[0;36m<module>\u001b[0;34m()\u001b[0m\n\u001b[1;32m      2\u001b[0m \u001b[0mX_train_ratio\u001b[0m \u001b[0;34m=\u001b[0m \u001b[0;34m[\u001b[0m\u001b[0;34m]\u001b[0m\u001b[0;34m\u001b[0m\u001b[0;34m\u001b[0m\u001b[0m\n\u001b[1;32m      3\u001b[0m \u001b[0;32mfor\u001b[0m \u001b[0mimage\u001b[0m \u001b[0;32min\u001b[0m \u001b[0mX_train\u001b[0m\u001b[0;34m:\u001b[0m\u001b[0;34m\u001b[0m\u001b[0;34m\u001b[0m\u001b[0m\n\u001b[0;32m----> 4\u001b[0;31m     \u001b[0marea\u001b[0m\u001b[0;34m,\u001b[0m \u001b[0mr\u001b[0m \u001b[0;34m=\u001b[0m \u001b[0mquant_area_ratio\u001b[0m\u001b[0;34m(\u001b[0m\u001b[0mimage\u001b[0m\u001b[0;34m)\u001b[0m\u001b[0;34m\u001b[0m\u001b[0;34m\u001b[0m\u001b[0m\n\u001b[0m\u001b[1;32m      5\u001b[0m     \u001b[0mX_train_area\u001b[0m\u001b[0;34m.\u001b[0m\u001b[0mappend\u001b[0m\u001b[0;34m(\u001b[0m\u001b[0marea\u001b[0m\u001b[0;34m)\u001b[0m\u001b[0;34m\u001b[0m\u001b[0;34m\u001b[0m\u001b[0m\n\u001b[1;32m      6\u001b[0m     \u001b[0mX_train_ratio\u001b[0m\u001b[0;34m.\u001b[0m\u001b[0mappend\u001b[0m\u001b[0;34m(\u001b[0m\u001b[0mr\u001b[0m\u001b[0;34m)\u001b[0m\u001b[0;34m\u001b[0m\u001b[0;34m\u001b[0m\u001b[0m\n",
            "\u001b[0;31mNameError\u001b[0m: name 'quant_area_ratio' is not defined"
          ]
        }
      ]
    },
    {
      "cell_type": "code",
      "metadata": {
        "id": "tm5z-X5GABqy"
      },
      "source": [
        "#Plots broken grains red and proper ones blue based on major to minor axis ratio\n",
        "plt.scatter(X_train_ratio,X_train_area,c=y_train,cmap=\"jet\")\n",
        "plt.xlabel(\"rice seed images\")\n",
        "plt.ylabel(\"area (px)\")\n",
        "plt.show()"
      ],
      "execution_count": null,
      "outputs": []
    },
    {
      "cell_type": "code",
      "metadata": {
        "id": "eupzrt0ZAQwX"
      },
      "source": [
        "#Plots broken (red)and proper (blue from the test dataset)\n",
        "plt.scatter(X_test_ratio,X_test_area,c=y_test,cmap=\"jet\")\n",
        "plt.xlabel(\"rice seed images\")\n",
        "plt.ylabel(\"area (px)\")\n",
        "plt.show()"
      ],
      "execution_count": null,
      "outputs": []
    },
    {
      "cell_type": "code",
      "metadata": {
        "id": "Zi12D78UE2B8"
      },
      "source": [
        "#create a function\n",
        "def quantify_area(image):\n",
        "    gray = rgb2gray(image)\n",
        "    threshold = threshold_otsu(gray)\n",
        "    binary = gray > threshold\n",
        "    label_im, nb_labels = ndimage.label(binary)\n",
        "    regionprops = measure.regionprops(label_im, intensity_image=gray)\n",
        "    regionprop = regionprops[0]\n",
        "    area = regionprop.area\n",
        "    return area\n",
        "\n",
        "area  = quantify_area(image)\n",
        "print(area)"
      ],
      "execution_count": null,
      "outputs": []
    },
    {
      "cell_type": "code",
      "metadata": {
        "id": "gcb0dZVu1wQB"
      },
      "source": [
        "X_train_area = []\n",
        "for image in X_train:\n",
        "    area = quantify_area(image)\n",
        "    X_train_area.append(area)\n",
        "\n",
        "X_test_area = []\n",
        "for image in X_test:\n",
        "    area = quantify_area(image)\n",
        "    X_test_area.append(area)"
      ],
      "execution_count": null,
      "outputs": []
    },
    {
      "cell_type": "code",
      "metadata": {
        "id": "kN-OpWAu-G0J"
      },
      "source": [
        "#check the area of training dataset\n",
        "plt.scatter(range(len(X_train_area)),X_train_area,c=y_train,cmap=\"jet\")\n",
        "plt.xlabel(\"rice seed images\")\n",
        "plt.ylabel(\"area (px)\")\n",
        "plt.show()"
      ],
      "execution_count": null,
      "outputs": []
    },
    {
      "cell_type": "code",
      "metadata": {
        "id": "eL5ADdJHFWCz"
      },
      "source": [
        "#set a treshhold to separate classes\n",
        "area_threshold = 256\n",
        "\n",
        "\n",
        "#classify grains to broken or proper\n",
        "train_y_pred = []\n",
        "for area in X_train_area:\n",
        "    if area > area_threshold:\n",
        "        train_y_pred.append(0)\n",
        "    else:\n",
        "        train_y_pred.append(1)\n",
        "        \n",
        "\n",
        "#Scater plot with the threshold line\n",
        "plt.figure(figsize=(5,3))\n",
        "plt.scatter(range(len(X_train_area)),X_train_area,c=y_train,cmap=plt.cm.coolwarm)\n",
        "plt.axhline(y=area_threshold)\n",
        "plt.title(\"blue:proper seed, red: broken seed\")\n",
        "plt.show()\n",
        "\n",
        "#Confusion matrix calculation\n",
        "cnf = confusion_matrix(y_train, train_y_pred)\n",
        "\n",
        "plt.figure(figsize=(3,3))\n",
        "plot_confusion_matrix(cnf, classes=[\"proper\",\"broken\"])\n",
        "\n",
        "plt.show()"
      ],
      "execution_count": null,
      "outputs": []
    },
    {
      "cell_type": "code",
      "metadata": {
        "id": "KxXqorE_JARE"
      },
      "source": [
        "test_y_pred = []\n",
        "for area in X_test_area:\n",
        "    if area > area_threshold:\n",
        "        test_y_pred.append(0)\n",
        "    else:\n",
        "        test_y_pred.append(1)\n",
        "        \n",
        "#Scatter plot with threshold line\n",
        "plt.figure(figsize=(5,3))\n",
        "plt.scatter(range(len(X_test_area)),X_test_area,c=y_test,cmap=plt.cm.coolwarm)\n",
        "plt.axhline(y=area_threshold)\n",
        "#plt.plot([100,0],[100,350],'k-',lw=2)\n",
        "plt.show()\n",
        "\n",
        "#Confusion matrix calculation\n",
        "cnf = confusion_matrix(y_test, test_y_pred)\n",
        "\n",
        "plt.figure(figsize=(3,3))\n",
        "plot_confusion_matrix(cnf, classes=[\"proper\",\"broken\"])\n",
        "plt.show()"
      ],
      "execution_count": null,
      "outputs": []
    },
    {
      "cell_type": "code",
      "metadata": {
        "id": "sJqsUKwkRR2V"
      },
      "source": [
        "#builds a classifier\n",
        "\n",
        "def manual_classifier(image,area_threshold):\n",
        "    gray = rgb2gray(image)\n",
        "    threshold = threshold_otsu(gray)\n",
        "    binary = gray > threshold\n",
        "    label_im, nb_labels = ndimage.label(binary)\n",
        "    regionprops = measure.regionprops(label_im, intensity_image=gray)\n",
        "    regionprop = regionprops[0]\n",
        "    area = regionprop.area\n",
        "    if area > area_threshold:\n",
        "        return 0\n",
        "    else:\n",
        "        return 1\n",
        "\n",
        "# getPick an image from test dataset \n",
        "n = 12\n",
        "image = X_test[n]\n",
        "label = y_test[n]\n",
        "area_threshold = 275 #We changed the threshold value 275 for more accuracy\n",
        "prediction = manual_classifier(image,area_threshold)\n",
        "\n",
        "plt.imshow(image)\n",
        "print(\"correct label is: \",label)\n",
        "print(\"predicted label is: \",prediction)"
      ],
      "execution_count": null,
      "outputs": []
    },
    {
      "cell_type": "code",
      "metadata": {
        "id": "1MT0jiIjR1Eo"
      },
      "source": [
        ""
      ],
      "execution_count": null,
      "outputs": []
    },
    {
      "cell_type": "code",
      "metadata": {
        "id": "D97DaKasqjH5"
      },
      "source": [
        ""
      ],
      "execution_count": null,
      "outputs": []
    },
    {
      "cell_type": "code",
      "metadata": {
        "id": "MOa5Ih3F2xuT"
      },
      "source": [
        ""
      ],
      "execution_count": null,
      "outputs": []
    }
  ]
}